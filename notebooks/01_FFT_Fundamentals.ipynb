{
  "cells": [
    {
      "cell_type": "markdown",
      "metadata": {},
      "source": [
        "# FFT Fundamentals and Practical Applications\n",
        "\n",
        "This notebook demonstrates the fundamental concepts of Fast Fourier Transform (FFT) and its practical applications in signal analysis.\n",
        "\n",
        "## Learning Objectives\n",
        "- Understand the mathematical foundation of FFT\n",
        "- Learn proper FFT scaling and normalization\n",
        "- Explore windowing effects and spectral leakage\n",
        "- Practice with real-world signal analysis examples\n"
      ]
    },
    {
      "cell_type": "code",
      "execution_count": null,
      "metadata": {},
      "outputs": [],
      "source": [
        "import numpy as np\n",
        "import matplotlib.pyplot as plt\n",
        "from scipy import signal\n",
        "from scipy.fft import fft, fftfreq, fftshift\n",
        "import sys\n",
        "import os\n",
        "\n",
        "# Add src to path\n",
        "sys.path.append(os.path.join('..', 'src'))\n",
        "from spectral_analysis import SpectralAnalyzer, generate_test_signals\n",
        "\n",
        "# Set plotting parameters\n",
        "plt.rcParams['figure.figsize'] = (12, 8)\n",
        "plt.rcParams['font.size'] = 12\n"
      ]
    }
  ],
  "metadata": {
    "language_info": {
      "name": "python"
    }
  },
  "nbformat": 4,
  "nbformat_minor": 2
}
